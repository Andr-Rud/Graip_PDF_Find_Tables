{
 "cells": [
  {
   "cell_type": "markdown",
   "id": "64ba7179-94fc-4ade-aaa9-fd6c46b1a4d2",
   "metadata": {
    "tags": []
   },
   "source": [
    "# TASK 1"
   ]
  },
  {
   "cell_type": "markdown",
   "id": "12d294a2-b3e0-41a6-984d-50830428b04c",
   "metadata": {},
   "source": [
    "### Для первого варианта (когда pdf-документ размечен) мы просто используем встроенную python-библиотеку. "
   ]
  },
  {
   "cell_type": "code",
   "execution_count": 11,
   "id": "82f78352-4b71-4f7b-ba9b-99cd7029d1ea",
   "metadata": {
    "tags": []
   },
   "outputs": [
    {
     "name": "stdout",
     "output_type": "stream",
     "text": [
      "Defaulting to user installation because normal site-packages is not writeable\n",
      "Requirement already satisfied: camelot-py in ./.local/lib/python3.10/site-packages (0.9.0)\n",
      "Requirement already satisfied: click>=6.7 in /usr/lib/python3/dist-packages (from camelot-py) (8.0.3)\n",
      "Requirement already satisfied: openpyxl>=2.5.8 in ./.local/lib/python3.10/site-packages (from camelot-py) (3.1.2)\n",
      "Requirement already satisfied: pandas>=0.23.4 in ./.local/lib/python3.10/site-packages (from camelot-py) (1.5.3)\n",
      "Requirement already satisfied: chardet>=3.0.4 in /usr/lib/python3/dist-packages (from camelot-py) (4.0.0)\n",
      "Requirement already satisfied: numpy>=1.13.3 in ./.local/lib/python3.10/site-packages (from camelot-py) (1.24.2)\n",
      "Requirement already satisfied: pdfminer.six>=20200726 in ./.local/lib/python3.10/site-packages (from camelot-py) (20221105)\n",
      "Requirement already satisfied: PyPDF2>=1.26.0 in ./.local/lib/python3.10/site-packages (from camelot-py) (2.9.0)\n",
      "Requirement already satisfied: et-xmlfile in ./.local/lib/python3.10/site-packages (from openpyxl>=2.5.8->camelot-py) (1.1.0)\n",
      "Requirement already satisfied: pytz>=2020.1 in /usr/lib/python3/dist-packages (from pandas>=0.23.4->camelot-py) (2022.1)\n",
      "Requirement already satisfied: python-dateutil>=2.8.1 in ./.local/lib/python3.10/site-packages (from pandas>=0.23.4->camelot-py) (2.8.2)\n",
      "Requirement already satisfied: cryptography>=36.0.0 in ./.local/lib/python3.10/site-packages (from pdfminer.six>=20200726->camelot-py) (40.0.2)\n",
      "Requirement already satisfied: charset-normalizer>=2.0.0 in /usr/local/lib/python3.10/dist-packages (from pdfminer.six>=20200726->camelot-py) (3.0.1)\n",
      "Requirement already satisfied: cffi>=1.12 in ./.local/lib/python3.10/site-packages (from cryptography>=36.0.0->pdfminer.six>=20200726->camelot-py) (1.15.1)\n",
      "Requirement already satisfied: six>=1.5 in /usr/lib/python3/dist-packages (from python-dateutil>=2.8.1->pandas>=0.23.4->camelot-py) (1.16.0)\n",
      "Requirement already satisfied: pycparser in ./.local/lib/python3.10/site-packages (from cffi>=1.12->cryptography>=36.0.0->pdfminer.six>=20200726->camelot-py) (2.21)\n",
      "Defaulting to user installation because normal site-packages is not writeable\n",
      "Requirement already satisfied: PyPDF2==2.9 in ./.local/lib/python3.10/site-packages (2.9.0)\n"
     ]
    }
   ],
   "source": [
    "!pip install camelot-py\n",
    "!pip install PyPDF2==2.9"
   ]
  },
  {
   "cell_type": "code",
   "execution_count": 1,
   "id": "c5fef5c1-0824-4144-850c-ce0fdf043f16",
   "metadata": {
    "tags": []
   },
   "outputs": [],
   "source": [
    "import camelot"
   ]
  },
  {
   "cell_type": "code",
   "execution_count": 2,
   "id": "cf8b3f9a-453c-45cf-9d34-733376d62956",
   "metadata": {
    "tags": []
   },
   "outputs": [],
   "source": [
    "file = 'table.pdf'"
   ]
  },
  {
   "cell_type": "code",
   "execution_count": 3,
   "id": "1a15118d-1598-4f96-8c98-cd1cfe4198e6",
   "metadata": {
    "tags": []
   },
   "outputs": [],
   "source": [
    "tables = camelot.read_pdf(file)"
   ]
  },
  {
   "cell_type": "code",
   "execution_count": 4,
   "id": "d3999c71-edc2-41b4-8d3c-f930cd04953a",
   "metadata": {
    "tags": []
   },
   "outputs": [
    {
     "data": {
      "text/plain": [
       "1"
      ]
     },
     "execution_count": 4,
     "metadata": {},
     "output_type": "execute_result"
    }
   ],
   "source": [
    "tables.n"
   ]
  },
  {
   "cell_type": "code",
   "execution_count": 5,
   "id": "8b85bf1b-7929-4557-b6c5-c477e857061a",
   "metadata": {
    "tags": []
   },
   "outputs": [
    {
     "data": {
      "text/html": [
       "<div>\n",
       "<style scoped>\n",
       "    .dataframe tbody tr th:only-of-type {\n",
       "        vertical-align: middle;\n",
       "    }\n",
       "\n",
       "    .dataframe tbody tr th {\n",
       "        vertical-align: top;\n",
       "    }\n",
       "\n",
       "    .dataframe thead th {\n",
       "        text-align: right;\n",
       "    }\n",
       "</style>\n",
       "<table border=\"1\" class=\"dataframe\">\n",
       "  <thead>\n",
       "    <tr style=\"text-align: right;\">\n",
       "      <th></th>\n",
       "      <th>0</th>\n",
       "      <th>1</th>\n",
       "      <th>2</th>\n",
       "      <th>3</th>\n",
       "      <th>4</th>\n",
       "      <th>5</th>\n",
       "    </tr>\n",
       "  </thead>\n",
       "  <tbody>\n",
       "    <tr>\n",
       "      <th>0</th>\n",
       "      <td>Disability \\nCategory</td>\n",
       "      <td>Participants</td>\n",
       "      <td>Ballots \\nCompleted</td>\n",
       "      <td>Ballots \\nIncomplete/ \\nTerminated</td>\n",
       "      <td>Results</td>\n",
       "      <td></td>\n",
       "    </tr>\n",
       "    <tr>\n",
       "      <th>1</th>\n",
       "      <td></td>\n",
       "      <td></td>\n",
       "      <td></td>\n",
       "      <td></td>\n",
       "      <td>Accuracy</td>\n",
       "      <td>Time to \\ncomplete</td>\n",
       "    </tr>\n",
       "    <tr>\n",
       "      <th>2</th>\n",
       "      <td>Blind</td>\n",
       "      <td>5</td>\n",
       "      <td>1</td>\n",
       "      <td>4</td>\n",
       "      <td>34.5%, n=1</td>\n",
       "      <td>1199 sec, n=1</td>\n",
       "    </tr>\n",
       "    <tr>\n",
       "      <th>3</th>\n",
       "      <td>Low Vision</td>\n",
       "      <td>5</td>\n",
       "      <td>2</td>\n",
       "      <td>3</td>\n",
       "      <td>98.3% n=2 \\n(97.7%, n=3)</td>\n",
       "      <td>1716 sec, n=3 \\n(1934 sec, n=2)</td>\n",
       "    </tr>\n",
       "    <tr>\n",
       "      <th>4</th>\n",
       "      <td>Dexterity</td>\n",
       "      <td>5</td>\n",
       "      <td>4</td>\n",
       "      <td>1</td>\n",
       "      <td>98.3%, n=4</td>\n",
       "      <td>1672.1 sec, n=4</td>\n",
       "    </tr>\n",
       "    <tr>\n",
       "      <th>5</th>\n",
       "      <td>Mobility</td>\n",
       "      <td>3</td>\n",
       "      <td>3</td>\n",
       "      <td>0</td>\n",
       "      <td>95.4%, n=3</td>\n",
       "      <td>1416 sec, n=3</td>\n",
       "    </tr>\n",
       "  </tbody>\n",
       "</table>\n",
       "</div>"
      ],
      "text/plain": [
       "                       0             1                    2  \\\n",
       "0  Disability \\nCategory  Participants  Ballots \\nCompleted   \n",
       "1                                                             \n",
       "2                  Blind             5                    1   \n",
       "3             Low Vision             5                    2   \n",
       "4              Dexterity             5                    4   \n",
       "5               Mobility             3                    3   \n",
       "\n",
       "                                    3                         4  \\\n",
       "0  Ballots \\nIncomplete/ \\nTerminated                   Results   \n",
       "1                                                      Accuracy   \n",
       "2                                   4                34.5%, n=1   \n",
       "3                                   3  98.3% n=2 \\n(97.7%, n=3)   \n",
       "4                                   1                98.3%, n=4   \n",
       "5                                   0                95.4%, n=3   \n",
       "\n",
       "                                 5  \n",
       "0                                   \n",
       "1               Time to \\ncomplete  \n",
       "2                    1199 sec, n=1  \n",
       "3  1716 sec, n=3 \\n(1934 sec, n=2)  \n",
       "4                  1672.1 sec, n=4  \n",
       "5                    1416 sec, n=3  "
      ]
     },
     "execution_count": 5,
     "metadata": {},
     "output_type": "execute_result"
    }
   ],
   "source": [
    "tables[0].df"
   ]
  },
  {
   "cell_type": "markdown",
   "id": "3a5a9320-a30f-401b-bdc5-0e4d2f323665",
   "metadata": {},
   "source": [
    "# TASK 2"
   ]
  },
  {
   "cell_type": "markdown",
   "id": "c87b9e56-8366-4ba4-a0d0-e25a434cdc00",
   "metadata": {
    "tags": []
   },
   "source": [
    "### Во втором случае (Когда pdf-документ не размечен. Таблицы имеют отрисованные границы) задачу стоит решать совершенно иначе. \n",
    "\n",
    "Разобьем на подзадачи:\n",
    "\n",
    "1) Научиться внутреннюю часть ячеек переводить в текст\n",
    "2) Научиться находить границы ячеек таблиц\n",
    "3) Создавать из этого DataFrame"
   ]
  },
  {
   "cell_type": "markdown",
   "id": "7774c083-63d7-4b9f-8580-caf54c77d006",
   "metadata": {},
   "source": [
    "## 1)"
   ]
  },
  {
   "cell_type": "code",
   "execution_count": 325,
   "id": "2a595093-9f3b-4f43-a5c1-18003c8614c1",
   "metadata": {
    "tags": []
   },
   "outputs": [
    {
     "name": "stdout",
     "output_type": "stream",
     "text": [
      "Defaulting to user installation because normal site-packages is not writeable\n",
      "Requirement already satisfied: pytesseract in ./.local/lib/python3.10/site-packages (0.3.10)\n",
      "Requirement already satisfied: packaging>=21.3 in ./.local/lib/python3.10/site-packages (from pytesseract) (23.0)\n",
      "Requirement already satisfied: Pillow>=8.0.0 in /usr/lib/python3/dist-packages (from pytesseract) (9.0.1)\n",
      "Note: you may need to restart the kernel to use updated packages.\n"
     ]
    }
   ],
   "source": [
    "!pip install pytesseract"
   ]
  },
  {
   "cell_type": "code",
   "execution_count": 15,
   "id": "f28250a6-444f-4e8c-a374-90dd44ce3c2a",
   "metadata": {
    "tags": []
   },
   "outputs": [],
   "source": [
    "import pytesseract\n",
    "\n",
    "import numpy as np\n",
    "\n",
    "from PIL import Image\n",
    "from pdf2image import convert_from_path"
   ]
  },
  {
   "cell_type": "code",
   "execution_count": 20,
   "id": "d2177e7e-96d1-47f0-8d03-2a447c33c751",
   "metadata": {
    "tags": []
   },
   "outputs": [],
   "source": [
    "images = convert_from_path('table.pdf')\n",
    "image = np.array(images[0])"
   ]
  },
  {
   "cell_type": "code",
   "execution_count": 21,
   "id": "e47377f1-f9b4-428f-8aa4-d27ee84cd4f2",
   "metadata": {
    "tags": []
   },
   "outputs": [
    {
     "data": {
      "image/png": "[encoded data removed]",
      "text/plain": [
       "<PIL.Image.Image image mode=L size=190x200 at 0x7FBF603ED0C0>"
      ]
     },
     "execution_count": 21,
     "metadata": {},
     "output_type": "execute_result"
    }
   ],
   "source": [
    "Image.fromarray(image[400:600, 460:650]).convert('L')"
   ]
  },
  {
   "cell_type": "code",
   "execution_count": 22,
   "id": "2ea3f917-6b92-462c-89a9-46b6175200fe",
   "metadata": {
    "tags": []
   },
   "outputs": [
    {
     "name": "stdout",
     "output_type": "stream",
     "text": [
      "Participants\n",
      "\n",
      " \n",
      "\f",
      "\n"
     ]
    }
   ],
   "source": [
    "print(pytesseract.image_to_string(Image.fromarray(image[400:600, 460:650]).convert('L')))"
   ]
  },
  {
   "cell_type": "code",
   "execution_count": 23,
   "id": "4f286ac4-22ed-41a0-ab88-a5904386da0f",
   "metadata": {
    "tags": []
   },
   "outputs": [
    {
     "data": {
      "image/png": "[encoded data removed]",
      "text/plain": [
       "<PIL.Image.Image image mode=L size=190x200 at 0x7FBF01614A60>"
      ]
     },
     "execution_count": 23,
     "metadata": {},
     "output_type": "execute_result"
    }
   ],
   "source": [
    "Image.fromarray(image[400:600, 660:850]).convert('L')"
   ]
  },
  {
   "cell_type": "code",
   "execution_count": 24,
   "id": "f2eb3513-7c46-4701-a9c2-8fe478810cda",
   "metadata": {
    "tags": []
   },
   "outputs": [
    {
     "name": "stdout",
     "output_type": "stream",
     "text": [
      "Ballots\n",
      "Completed\n",
      "\n",
      " \n",
      "\f",
      "\n"
     ]
    }
   ],
   "source": [
    "print(pytesseract.image_to_string(Image.fromarray(image[400:600, 660:850]).convert('L')))"
   ]
  },
  {
   "cell_type": "code",
   "execution_count": null,
   "id": "9c5e656a-2d88-4793-8e27-cf9825f48adc",
   "metadata": {},
   "outputs": [],
   "source": []
  },
  {
   "cell_type": "markdown",
   "id": "a2796a07-64d0-4a74-b064-c5d8747f14d7",
   "metadata": {},
   "source": [
    "## 2)"
   ]
  },
  {
   "cell_type": "code",
   "execution_count": 18,
   "id": "533c1cf0-3342-448c-bb77-a1637542426a",
   "metadata": {
    "tags": []
   },
   "outputs": [
    {
     "name": "stdout",
     "output_type": "stream",
     "text": [
      "Defaulting to user installation because normal site-packages is not writeable\n",
      "Collecting pdf2image\n",
      "  Downloading pdf2image-1.16.3-py3-none-any.whl (11 kB)\n",
      "Requirement already satisfied: pillow in /usr/lib/python3/dist-packages (from pdf2image) (9.0.1)\n",
      "Installing collected packages: pdf2image\n",
      "Successfully installed pdf2image-1.16.3\n",
      "Note: you may need to restart the kernel to use updated packages.\n"
     ]
    }
   ],
   "source": [
    "!pip install pdf2image"
   ]
  },
  {
   "cell_type": "code",
   "execution_count": 47,
   "id": "008463ab-90b9-4e4c-afbc-79c5f5de2ea8",
   "metadata": {},
   "outputs": [],
   "source": [
    "import cv2\n",
    "\n",
    "import pandas as pd\n",
    "import matplotlib.pyplot as plt\n",
    "\n",
    "from copy import deepcopy"
   ]
  },
  {
   "cell_type": "code",
   "execution_count": 48,
   "id": "0ae6b72c-2ece-49f5-87c4-457e5050821f",
   "metadata": {
    "tags": []
   },
   "outputs": [],
   "source": [
    "images = convert_from_path('test.pdf')\n",
    "image = np.array(images[0])"
   ]
  },
  {
   "cell_type": "code",
   "execution_count": 49,
   "id": "2d0d1dd6-4eed-49a4-a9f6-fd42fa25b714",
   "metadata": {
    "tags": []
   },
   "outputs": [
    {
     "data": {
      "text/plain": [
       "(1653, 2339, 3)"
      ]
     },
     "execution_count": 49,
     "metadata": {},
     "output_type": "execute_result"
    }
   ],
   "source": [
    "image.shape"
   ]
  },
  {
   "cell_type": "code",
   "execution_count": 50,
   "id": "6f67cf97-e296-4d4d-8cae-edaa28b1e79d",
   "metadata": {
    "tags": []
   },
   "outputs": [
    {
     "data": {
      "image/png": "[encoded data removed]",
      "text/plain": [
       "<PIL.Image.Image image mode=RGB size=2339x1653 at 0x7FBF603EEF50>"
      ]
     },
     "execution_count": 50,
     "metadata": {},
     "output_type": "execute_result"
    }
   ],
   "source": [
    "Image.fromarray(image)"
   ]
  },
  {
   "cell_type": "markdown",
   "id": "eb7365f5-0818-4349-8662-d79d9a207432",
   "metadata": {},
   "source": [
    "Выберем все прямоугольные контуры:"
   ]
  },
  {
   "cell_type": "code",
   "execution_count": 51,
   "id": "9f04b511-3a72-4c8d-aff6-d915bc2b0547",
   "metadata": {
    "tags": []
   },
   "outputs": [],
   "source": [
    "images = convert_from_path('test2.pdf')\n",
    "image = np.array(images[0])\n",
    "\n",
    "imgray = cv2.cvtColor(image, cv2.COLOR_BGR2GRAY)\n",
    "ret, thresh = cv2.threshold(imgray, 97, 255, 0)\n",
    "contours, hierarchy = cv2.findContours(thresh, cv2.RETR_TREE, cv2.CHAIN_APPROX_SIMPLE)\n",
    "\n",
    "contour_len_4 = []\n",
    "\n",
    "for contour in contours:\n",
    "    if contour.shape[0] == 4:\n",
    "        contour_len_4.append(contour)"
   ]
  },
  {
   "cell_type": "markdown",
   "id": "3a9c5bea-e14d-4a67-8a66-0cebf7e0cc67",
   "metadata": {},
   "source": [
    "Посмотрим на их содержимое:"
   ]
  },
  {
   "cell_type": "code",
   "execution_count": 52,
   "id": "49679c05-9574-4607-9e53-711fb509d79f",
   "metadata": {
    "tags": []
   },
   "outputs": [],
   "source": [
    "def see_item(image, contours, index):\n",
    "    \n",
    "    x_min = min([i[0][0] for i in contours[index]])\n",
    "    x_max = max([i[0][0] for i in contours[index]])\n",
    "    \n",
    "    y_min = min([i[0][1] for i in contours[index]])\n",
    "    y_max = max([i[0][1] for i in contours[index]])\n",
    "    \n",
    "    return Image.fromarray(image[y_min:y_max, x_min:x_max]).convert('L')"
   ]
  },
  {
   "cell_type": "code",
   "execution_count": 53,
   "id": "ce3ed2c0-04ba-49b6-bccd-43d22d5f3507",
   "metadata": {
    "tags": []
   },
   "outputs": [
    {
     "data": {
      "image/png": "[encoded data removed]",
      "text/plain": [
       "<PIL.Image.Image image mode=L size=207x41 at 0x7FBF01617FA0>"
      ]
     },
     "execution_count": 53,
     "metadata": {},
     "output_type": "execute_result"
    }
   ],
   "source": [
    "see_item(image, contour_len_4, 1)"
   ]
  },
  {
   "cell_type": "code",
   "execution_count": 54,
   "id": "502c853b-db8f-4755-a036-0e144405c4c6",
   "metadata": {
    "tags": []
   },
   "outputs": [
    {
     "data": {
      "image/png": "[encoded data removed]",
      "text/plain": [
       "<PIL.Image.Image image mode=L size=207x41 at 0x7FBF08115060>"
      ]
     },
     "execution_count": 54,
     "metadata": {},
     "output_type": "execute_result"
    }
   ],
   "source": [
    "see_item(image, contour_len_4, 2)"
   ]
  },
  {
   "cell_type": "code",
   "execution_count": 55,
   "id": "8fa44d08-f36a-4c5d-a043-c5edd0c98bb8",
   "metadata": {
    "tags": []
   },
   "outputs": [
    {
     "data": {
      "image/png": "[encoded data removed]",
      "text/plain": [
       "<PIL.Image.Image image mode=L size=409x41 at 0x7FBF081141F0>"
      ]
     },
     "execution_count": 55,
     "metadata": {},
     "output_type": "execute_result"
    }
   ],
   "source": [
    "see_item(image, contour_len_4, 3)"
   ]
  },
  {
   "cell_type": "code",
   "execution_count": 56,
   "id": "5008dac7-8da4-41db-9946-57e38042aaff",
   "metadata": {
    "tags": []
   },
   "outputs": [
    {
     "data": {
      "image/png": "[encoded data removed]",
      "text/plain": [
       "<PIL.Image.Image image mode=L size=207x41 at 0x7FBF08114580>"
      ]
     },
     "execution_count": 56,
     "metadata": {},
     "output_type": "execute_result"
    }
   ],
   "source": [
    "see_item(image, contour_len_4, 4)"
   ]
  },
  {
   "cell_type": "code",
   "execution_count": 57,
   "id": "aa6836e5-d42f-4d49-96d7-bd7b3aecacdb",
   "metadata": {
    "tags": []
   },
   "outputs": [
    {
     "data": {
      "image/png": "[encoded data removed]",
      "text/plain": [
       "<PIL.Image.Image image mode=L size=207x84 at 0x7FBF08123CA0>"
      ]
     },
     "execution_count": 57,
     "metadata": {},
     "output_type": "execute_result"
    }
   ],
   "source": [
    "see_item(image, contour_len_4, 5)"
   ]
  },
  {
   "cell_type": "markdown",
   "id": "1d538bd7-cb95-48df-b2d2-345ba3894e0d",
   "metadata": {},
   "source": [
    "Таким образом мы получили содержимое ячеек таблицы"
   ]
  },
  {
   "cell_type": "markdown",
   "id": "f0cad769-9378-4882-be3f-80cb3b0f3d0a",
   "metadata": {},
   "source": [
    "## 3)"
   ]
  },
  {
   "cell_type": "markdown",
   "id": "92314d66-c8db-48a5-b6b0-d9049b2891c1",
   "metadata": {},
   "source": [
    "Соберем из этих ячеек полноценную таблицу:"
   ]
  },
  {
   "cell_type": "code",
   "execution_count": 58,
   "id": "4254a143-12be-4e5a-a659-bd339d4e8975",
   "metadata": {
    "tags": []
   },
   "outputs": [],
   "source": [
    "def contours_to_corners(contours, max_area):\n",
    "    result = []\n",
    "    \n",
    "    for contour in contours:\n",
    "        x_min = min([i[0][0] for i in contour])\n",
    "        x_max = max([i[0][0] for i in contour])\n",
    "\n",
    "        y_min = min([i[0][1] for i in contour])\n",
    "        y_max = max([i[0][1] for i in contour])\n",
    "        \n",
    "        if (y_max - y_min) * (x_max - x_min) < max_area:\n",
    "            result.append([x_min, y_min, x_max, y_max])\n",
    "            \n",
    "    return result"
   ]
  },
  {
   "cell_type": "code",
   "execution_count": 59,
   "id": "ec895cca-9f91-4156-b64c-3f5a3ea24c18",
   "metadata": {
    "tags": []
   },
   "outputs": [],
   "source": [
    "corners = contours_to_corners(contour_len_4, 2000 * 1000)"
   ]
  },
  {
   "cell_type": "code",
   "execution_count": 60,
   "id": "5339fc1b-829b-4165-8672-a0f0f47448a5",
   "metadata": {
    "tags": []
   },
   "outputs": [],
   "source": [
    "corners.sort()"
   ]
  },
  {
   "cell_type": "code",
   "execution_count": 61,
   "id": "32b24736-2db4-4c2b-96ae-d592467795d1",
   "metadata": {
    "tags": []
   },
   "outputs": [
    {
     "data": {
      "text/plain": [
       "[[649, 150, 856, 318],\n",
       " [649, 321, 856, 405],\n",
       " [649, 408, 856, 449],\n",
       " [859, 150, 1268, 318],\n",
       " [859, 321, 1268, 405],\n",
       " [859, 408, 1268, 449],\n",
       " [1272, 150, 1479, 318],\n",
       " [1272, 321, 1479, 405],\n",
       " [1272, 408, 1479, 449],\n",
       " [1482, 150, 1689, 318],\n",
       " [1482, 321, 1689, 405],\n",
       " [1482, 408, 1689, 449]]"
      ]
     },
     "execution_count": 61,
     "metadata": {},
     "output_type": "execute_result"
    }
   ],
   "source": [
    "corners"
   ]
  },
  {
   "cell_type": "code",
   "execution_count": 62,
   "id": "dfa509be-3f12-4bad-b14a-bada7892c7db",
   "metadata": {
    "tags": []
   },
   "outputs": [],
   "source": [
    "def image_from_corners(image, corners):\n",
    "    x_min, y_min, x_max, y_max = corners\n",
    "    return Image.fromarray(image[y_min:y_max, x_min:x_max]).convert('L')"
   ]
  },
  {
   "cell_type": "code",
   "execution_count": 63,
   "id": "c7b0f728-f603-463c-a502-c7600cba2c44",
   "metadata": {
    "tags": []
   },
   "outputs": [],
   "source": [
    "def from_corners_get_array(image, corners):\n",
    "    n = 1\n",
    "    size = len(corners)\n",
    "    for i in range(1, size):\n",
    "        if corners[i][0] == corners[i - 1][0]:\n",
    "            n += 1\n",
    "        else:\n",
    "            break\n",
    "    m = size // n\n",
    "    \n",
    "    output = [[None for j in range(m)]for i in range(n)]\n",
    "    \n",
    "    for i in range(size):\n",
    "        output[i % n][i // n] = pytesseract.image_to_string(image_from_corners(image, corners[i]))\n",
    "    \n",
    "    return output"
   ]
  },
  {
   "cell_type": "code",
   "execution_count": 64,
   "id": "c7c5d8e6-b60a-48ef-a9e2-d3aca92278d7",
   "metadata": {
    "tags": []
   },
   "outputs": [],
   "source": [
    "output_array = from_corners_get_array(image, corners)"
   ]
  },
  {
   "cell_type": "code",
   "execution_count": 65,
   "id": "ba64cd74-dcae-4c01-9cac-07f28c5a8c9a",
   "metadata": {
    "tags": []
   },
   "outputs": [],
   "source": [
    "my_array = np.array(output_array)"
   ]
  },
  {
   "cell_type": "code",
   "execution_count": 66,
   "id": "81422ebb-f9e1-4c3d-9a83-5e00744215ca",
   "metadata": {
    "tags": []
   },
   "outputs": [
    {
     "data": {
      "text/plain": [
       "array([['asd\\n\\x0c', 'aba\\n\\x0c', 'caba\\n\\x0c', 'asd\\n\\x0c'],\n",
       "       ['23\\n\\x0c', '423423\\n\\x0c', '123\\n\\x0c', '23423\\n\\x0c'],\n",
       "       ['34.54\\n\\x0c', '343.24\\n\\x0c', '124.23\\n\\x0c', '123.423\\n\\x0c']],\n",
       "      dtype='<U9')"
      ]
     },
     "execution_count": 66,
     "metadata": {},
     "output_type": "execute_result"
    }
   ],
   "source": [
    "my_array"
   ]
  },
  {
   "cell_type": "code",
   "execution_count": 67,
   "id": "8ca39344-7e91-4f9c-b7f6-cf675f608a72",
   "metadata": {
    "tags": []
   },
   "outputs": [],
   "source": [
    "df = pd.DataFrame(my_array, columns=[f'Column{i}' for i in range(my_array.shape[1])])"
   ]
  },
  {
   "cell_type": "code",
   "execution_count": 68,
   "id": "2cccced5-56a8-4bbb-8aac-e00679737308",
   "metadata": {
    "tags": []
   },
   "outputs": [
    {
     "data": {
      "text/html": [
       "<div>\n",
       "<style scoped>\n",
       "    .dataframe tbody tr th:only-of-type {\n",
       "        vertical-align: middle;\n",
       "    }\n",
       "\n",
       "    .dataframe tbody tr th {\n",
       "        vertical-align: top;\n",
       "    }\n",
       "\n",
       "    .dataframe thead th {\n",
       "        text-align: right;\n",
       "    }\n",
       "</style>\n",
       "<table border=\"1\" class=\"dataframe\">\n",
       "  <thead>\n",
       "    <tr style=\"text-align: right;\">\n",
       "      <th></th>\n",
       "      <th>Column0</th>\n",
       "      <th>Column1</th>\n",
       "      <th>Column2</th>\n",
       "      <th>Column3</th>\n",
       "    </tr>\n",
       "  </thead>\n",
       "  <tbody>\n",
       "    <tr>\n",
       "      <th>0</th>\n",
       "      <td>asd\\n</td>\n",
       "      <td>aba\\n</td>\n",
       "      <td>caba\\n</td>\n",
       "      <td>asd\\n</td>\n",
       "    </tr>\n",
       "    <tr>\n",
       "      <th>1</th>\n",
       "      <td>23\\n</td>\n",
       "      <td>423423\\n</td>\n",
       "      <td>123\\n</td>\n",
       "      <td>23423\\n</td>\n",
       "    </tr>\n",
       "    <tr>\n",
       "      <th>2</th>\n",
       "      <td>34.54\\n</td>\n",
       "      <td>343.24\\n</td>\n",
       "      <td>124.23\\n</td>\n",
       "      <td>123.423\\n</td>\n",
       "    </tr>\n",
       "  </tbody>\n",
       "</table>\n",
       "</div>"
      ],
      "text/plain": [
       "    Column0    Column1    Column2     Column3\n",
       "0    asd\\n\n",
       "     aba\\n\n",
       "    caba\\n\n",
       "      asd\\n\n",
       "\n",
       "1     23\\n\n",
       "  423423\\n\n",
       "     123\\n\n",
       "    23423\\n\n",
       "\n",
       "2  34.54\\n\n",
       "  343.24\\n\n",
       "  124.23\\n\n",
       "  123.423\\n"
      ]
     },
     "execution_count": 68,
     "metadata": {},
     "output_type": "execute_result"
    }
   ],
   "source": [
    "df"
   ]
  },
  {
   "cell_type": "markdown",
   "id": "ba36596f-f137-4332-9909-53e832eb4210",
   "metadata": {},
   "source": [
    "# TASK 3"
   ]
  },
  {
   "cell_type": "markdown",
   "id": "22b24061-6c6f-43d8-a96d-bb3a1567c83e",
   "metadata": {},
   "source": [
    "Для решения последней задачи я бы воспользовался нейронными сетями для сегментации (нахождения) подобных таблиц. \n",
    "\n",
    "Для этого необходимо иметь датасет изображений с подобными таблицами (размеченный) и сделать Fine Tuning U-Net-подобной архитектуты на наших данных (даже неразмеченного датасета с таблицами я найти не смог  :( ). \n",
    "\n",
    "Стоит также заметить, что мы хотим находить все такие таблицы в нашем PDF документе (иными словами, устремить Recall по количеству найденных таблиц к единице). При такой постановке мы, вероятно, часто будем выделять что-то лишнее. В этом случае стоит сделать диалоговое окошко с пользователем нашего приложения, где мы будем предлагать выделенные нами элементы (в которых мы не сильно уверены), а пользователь будет нам показывать, какие из них действительно являются нужными ему таблицами"
   ]
  },
  {
   "cell_type": "code",
   "execution_count": null,
   "id": "204c97a0-cfc0-446f-a26d-6445087a14bd",
   "metadata": {},
   "outputs": [],
   "source": []
  },
  {
   "cell_type": "code",
   "execution_count": null,
   "id": "6c10dca3-ac98-4dca-927e-28ebade7eef5",
   "metadata": {},
   "outputs": [],
   "source": []
  }
 ],
 "metadata": {
  "kernelspec": {
   "display_name": "Python 3 (ipykernel)",
   "language": "python",
   "name": "python3"
  },
  "language_info": {
   "codemirror_mode": {
    "name": "ipython",
    "version": 3
   },
   "file_extension": ".py",
   "mimetype": "text/x-python",
   "name": "python",
   "nbconvert_exporter": "python",
   "pygments_lexer": "ipython3",
   "version": "3.10.6"
  }
 },
 "nbformat": 4,
 "nbformat_minor": 5
}
